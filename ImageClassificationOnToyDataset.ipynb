{
  "nbformat": 4,
  "nbformat_minor": 0,
  "metadata": {
    "colab": {
      "provenance": [],
      "collapsed_sections": []
    },
    "kernelspec": {
      "name": "python3",
      "display_name": "Python 3"
    },
    "language_info": {
      "name": "python"
    },
    "accelerator": "GPU"
  },
  "cells": [
    {
      "cell_type": "markdown",
      "source": [
        "*Importing Important Libraries*"
      ],
      "metadata": {
        "id": "_jOVpG-Qfd9I"
      }
    },
    {
      "cell_type": "code",
      "execution_count": null,
      "metadata": {
        "id": "H2q_-HaIZBpu"
      },
      "outputs": [],
      "source": [
        "import cv2\n",
        "import os \n",
        "import numpy as np\n",
        "import matplotlib.pyplot as plt\n",
        "import torch\n",
        "import torch.nn as nn\n",
        "import torchvision\n",
        "from torch import optim \n",
        "from torch.utils.data import DataLoader"
      ]
    },
    {
      "cell_type": "markdown",
      "source": [
        "*Checking if GPU is Available*"
      ],
      "metadata": {
        "id": "gGdBKaj1giCy"
      }
    },
    {
      "cell_type": "code",
      "source": [
        "torch.cuda.is_available()"
      ],
      "metadata": {
        "colab": {
          "base_uri": "https://localhost:8080/"
        },
        "id": "SumeiJjfWp9g",
        "outputId": "f97bf3eb-4465-4019-fc89-646b03ea3720"
      },
      "execution_count": null,
      "outputs": [
        {
          "output_type": "execute_result",
          "data": {
            "text/plain": [
              "True"
            ]
          },
          "metadata": {},
          "execution_count": 2
        }
      ]
    },
    {
      "cell_type": "code",
      "source": [
        "device = torch.device('cuda' if torch.cuda.is_available() else 'cpu')"
      ],
      "metadata": {
        "id": "mAdCKRcmXRj0"
      },
      "execution_count": null,
      "outputs": []
    },
    {
      "cell_type": "code",
      "source": [
        "!wget https://internshala.com/uploads/chat-uploads/62a0cbb28b0f31654705074-2601258.zip"
      ],
      "metadata": {
        "colab": {
          "base_uri": "https://localhost:8080/"
        },
        "id": "vMi37vviwgiA",
        "outputId": "283c6338-2c34-4842-8138-428179a3a014"
      },
      "execution_count": null,
      "outputs": [
        {
          "output_type": "stream",
          "name": "stdout",
          "text": [
            "--2022-06-14 16:11:00--  https://internshala.com/uploads/chat-uploads/62a0cbb28b0f31654705074-2601258.zip\n",
            "Resolving internshala.com (internshala.com)... 13.235.197.54, 15.206.64.2\n",
            "Connecting to internshala.com (internshala.com)|13.235.197.54|:443... connected.\n",
            "HTTP request sent, awaiting response... 301 Moved Permanently\n",
            "Location: https://s3-ap-southeast-1.amazonaws.com/internshala-uploads/chat-uploads/62a0cbb28b0f31654705074-2601258.zip [following]\n",
            "--2022-06-14 16:11:01--  https://s3-ap-southeast-1.amazonaws.com/internshala-uploads/chat-uploads/62a0cbb28b0f31654705074-2601258.zip\n",
            "Resolving s3-ap-southeast-1.amazonaws.com (s3-ap-southeast-1.amazonaws.com)... 52.219.133.58\n",
            "Connecting to s3-ap-southeast-1.amazonaws.com (s3-ap-southeast-1.amazonaws.com)|52.219.133.58|:443... connected.\n",
            "HTTP request sent, awaiting response... 200 OK\n",
            "Length: 2601258 (2.5M) [application/zip]\n",
            "Saving to: ‘62a0cbb28b0f31654705074-2601258.zip.1’\n",
            "\n",
            "62a0cbb28b0f3165470 100%[===================>]   2.48M  1.72MB/s    in 1.4s    \n",
            "\n",
            "2022-06-14 16:11:03 (1.72 MB/s) - ‘62a0cbb28b0f31654705074-2601258.zip.1’ saved [2601258/2601258]\n",
            "\n"
          ]
        }
      ]
    },
    {
      "cell_type": "code",
      "source": [
        "!unzip 62a0cbb28b0f31654705074-2601258.zip -d /toy_dataset"
      ],
      "metadata": {
        "colab": {
          "base_uri": "https://localhost:8080/"
        },
        "id": "pwzgz77V2xYq",
        "outputId": "625bdf02-965d-4d83-cd47-61e94e374a35"
      },
      "execution_count": null,
      "outputs": [
        {
          "output_type": "stream",
          "name": "stdout",
          "text": [
            "Archive:  62a0cbb28b0f31654705074-2601258.zip\n",
            "replace /toy_dataset/ToyDataset/toy_train.tar? [y]es, [n]o, [A]ll, [N]one, [r]ename: n\n",
            "replace /toy_dataset/ToyDataset/toy_val.tar? [y]es, [n]o, [A]ll, [N]one, [r]ename: n\n"
          ]
        }
      ]
    },
    {
      "cell_type": "code",
      "source": [
        "!tar -xvf \"/toy_dataset/ToyDataset/toy_train.tar\" \n",
        "!tar -xvf \"/toy_dataset/ToyDataset/toy_val.tar\""
      ],
      "metadata": {
        "colab": {
          "base_uri": "https://localhost:8080/"
        },
        "id": "JvVnLKhU3Ay9",
        "outputId": "a1546da5-1db5-4e57-c98e-2f398710630f"
      },
      "execution_count": null,
      "outputs": [
        {
          "output_type": "stream",
          "name": "stdout",
          "text": [
            "toy_train/\n",
            "toy_train/circle/\n",
            "toy_train/circle/297.jpg\n",
            "toy_train/circle/483.jpg\n",
            "toy_train/circle/521.jpg\n",
            "toy_train/circle/678.jpg\n",
            "toy_train/circle/892.jpg\n",
            "toy_train/circle/397.jpg\n",
            "toy_train/circle/82.jpg\n",
            "toy_train/circle/486.jpg\n",
            "toy_train/circle/762.jpg\n",
            "toy_train/circle/985.jpg\n",
            "toy_train/circle/113.jpg\n",
            "toy_train/circle/813.jpg\n",
            "toy_train/circle/655.jpg\n",
            "toy_train/circle/208.jpg\n",
            "toy_train/circle/191.jpg\n",
            "toy_train/circle/928.jpg\n",
            "toy_train/circle/935.jpg\n",
            "toy_train/circle/909.jpg\n",
            "toy_train/circle/931.jpg\n",
            "toy_train/circle/552.jpg\n",
            "toy_train/circle/844.jpg\n",
            "toy_train/circle/946.jpg\n",
            "toy_train/circle/234.jpg\n",
            "toy_train/circle/291.jpg\n",
            "toy_train/circle/881.jpg\n",
            "toy_train/circle/5.jpg\n",
            "toy_train/circle/188.jpg\n",
            "toy_train/circle/604.jpg\n",
            "toy_train/circle/456.jpg\n",
            "toy_train/circle/502.jpg\n",
            "toy_train/circle/36.jpg\n",
            "toy_train/circle/465.jpg\n",
            "toy_train/circle/3.jpg\n",
            "toy_train/circle/921.jpg\n",
            "toy_train/circle/93.jpg\n",
            "toy_train/circle/184.jpg\n",
            "toy_train/circle/504.jpg\n",
            "toy_train/circle/594.jpg\n",
            "toy_train/circle/811.jpg\n",
            "toy_train/circle/73.jpg\n",
            "toy_train/circle/110.jpg\n",
            "toy_train/circle/426.jpg\n",
            "toy_train/circle/451.jpg\n",
            "toy_train/circle/212.jpg\n",
            "toy_train/circle/329.jpg\n",
            "toy_train/circle/530.jpg\n",
            "toy_train/circle/340.jpg\n",
            "toy_train/circle/749.jpg\n",
            "toy_train/circle/440.jpg\n",
            "toy_train/circle/791.jpg\n",
            "toy_train/circle/118.jpg\n",
            "toy_train/circle/333.jpg\n",
            "toy_train/circle/842.jpg\n",
            "toy_train/circle/132.jpg\n",
            "toy_train/circle/410.jpg\n",
            "toy_train/circle/102.jpg\n",
            "toy_train/circle/422.jpg\n",
            "toy_train/circle/756.jpg\n",
            "toy_train/circle/643.jpg\n",
            "toy_train/circle/877.jpg\n",
            "toy_train/circle/267.jpg\n",
            "toy_train/circle/860.jpg\n",
            "toy_train/circle/789.jpg\n",
            "toy_train/circle/9.jpg\n",
            "toy_train/circle/509.jpg\n",
            "toy_train/circle/324.jpg\n",
            "toy_train/circle/187.jpg\n",
            "toy_train/circle/925.jpg\n",
            "toy_train/circle/418.jpg\n",
            "toy_train/circle/34.jpg\n",
            "toy_train/circle/533.jpg\n",
            "toy_train/circle/634.jpg\n",
            "toy_train/circle/361.jpg\n",
            "toy_train/circle/336.jpg\n",
            "toy_train/circle/15.jpg\n",
            "toy_train/circle/412.jpg\n",
            "toy_train/circle/304.jpg\n",
            "toy_train/circle/151.jpg\n",
            "toy_train/circle/732.jpg\n",
            "toy_train/circle/182.jpg\n",
            "toy_train/circle/875.jpg\n",
            "toy_train/circle/934.jpg\n",
            "toy_train/circle/424.jpg\n",
            "toy_train/circle/338.jpg\n",
            "toy_train/circle/328.jpg\n",
            "toy_train/circle/357.jpg\n",
            "toy_train/circle/64.jpg\n",
            "toy_train/circle/29.jpg\n",
            "toy_train/circle/346.jpg\n",
            "toy_train/circle/306.jpg\n",
            "toy_train/circle/558.jpg\n",
            "toy_train/circle/52.jpg\n",
            "toy_train/circle/954.jpg\n",
            "toy_train/circle/601.jpg\n",
            "toy_train/circle/372.jpg\n",
            "toy_train/circle/599.jpg\n",
            "toy_train/circle/211.jpg\n",
            "toy_train/circle/262.jpg\n",
            "toy_train/circle/771.jpg\n",
            "toy_train/circle/673.jpg\n",
            "toy_train/circle/646.jpg\n",
            "toy_train/circle/974.jpg\n",
            "toy_train/circle/930.jpg\n",
            "toy_train/circle/224.jpg\n",
            "toy_train/circle/260.jpg\n",
            "toy_train/circle/979.jpg\n",
            "toy_train/circle/693.jpg\n",
            "toy_train/circle/351.jpg\n",
            "toy_train/circle/920.jpg\n",
            "toy_train/circle/572.jpg\n",
            "toy_train/circle/854.jpg\n",
            "toy_train/circle/172.jpg\n",
            "toy_train/circle/865.jpg\n",
            "toy_train/circle/160.jpg\n",
            "toy_train/circle/778.jpg\n",
            "toy_train/circle/89.jpg\n",
            "toy_train/circle/142.jpg\n",
            "toy_train/circle/873.jpg\n",
            "toy_train/circle/606.jpg\n",
            "toy_train/circle/819.jpg\n",
            "toy_train/circle/524.jpg\n",
            "toy_train/circle/536.jpg\n",
            "toy_train/circle/138.jpg\n",
            "toy_train/circle/849.jpg\n",
            "toy_train/circle/122.jpg\n",
            "toy_train/circle/562.jpg\n",
            "toy_train/circle/578.jpg\n",
            "toy_train/circle/666.jpg\n",
            "toy_train/circle/709.jpg\n",
            "toy_train/circle/473.jpg\n",
            "toy_train/circle/514.jpg\n",
            "toy_train/circle/657.jpg\n",
            "toy_train/circle/889.jpg\n",
            "toy_train/circle/871.jpg\n",
            "toy_train/circle/891.jpg\n",
            "toy_train/circle/690.jpg\n",
            "toy_train/circle/447.jpg\n",
            "toy_train/circle/510.jpg\n",
            "toy_train/circle/948.jpg\n",
            "toy_train/circle/290.jpg\n",
            "toy_train/circle/127.jpg\n",
            "toy_train/circle/640.jpg\n",
            "toy_train/circle/918.jpg\n",
            "toy_train/circle/427.jpg\n",
            "toy_train/circle/501.jpg\n",
            "toy_train/circle/737.jpg\n",
            "toy_train/circle/798.jpg\n",
            "toy_train/circle/344.jpg\n",
            "toy_train/circle/419.jpg\n",
            "toy_train/circle/104.jpg\n",
            "toy_train/circle/579.jpg\n",
            "toy_train/circle/403.jpg\n",
            "toy_train/circle/312.jpg\n",
            "toy_train/circle/864.jpg\n",
            "toy_train/circle/488.jpg\n",
            "toy_train/circle/556.jpg\n",
            "toy_train/circle/716.jpg\n",
            "toy_train/circle/149.jpg\n",
            "toy_train/circle/463.jpg\n",
            "toy_train/circle/79.jpg\n",
            "toy_train/circle/797.jpg\n",
            "toy_train/circle/656.jpg\n",
            "toy_train/circle/763.jpg\n",
            "toy_train/circle/395.jpg\n",
            "toy_train/circle/235.jpg\n",
            "toy_train/circle/103.jpg\n",
            "toy_train/circle/76.jpg\n",
            "toy_train/circle/795.jpg\n",
            "toy_train/circle/263.jpg\n",
            "toy_train/circle/747.jpg\n",
            "toy_train/circle/470.jpg\n",
            "toy_train/circle/793.jpg\n",
            "toy_train/circle/28.jpg\n",
            "toy_train/circle/650.jpg\n",
            "toy_train/circle/139.jpg\n",
            "toy_train/circle/725.jpg\n",
            "toy_train/circle/216.jpg\n",
            "toy_train/circle/590.jpg\n",
            "toy_train/circle/367.jpg\n",
            "toy_train/circle/62.jpg\n",
            "toy_train/circle/878.jpg\n",
            "toy_train/circle/963.jpg\n",
            "toy_train/circle/904.jpg\n",
            "toy_train/circle/607.jpg\n",
            "toy_train/circle/647.jpg\n",
            "toy_train/circle/97.jpg\n",
            "toy_train/circle/587.jpg\n",
            "toy_train/circle/834.jpg\n",
            "toy_train/circle/420.jpg\n",
            "toy_train/circle/442.jpg\n",
            "toy_train/circle/622.jpg\n",
            "toy_train/circle/471.jpg\n",
            "toy_train/circle/951.jpg\n",
            "toy_train/circle/276.jpg\n",
            "toy_train/circle/345.jpg\n",
            "toy_train/circle/389.jpg\n",
            "toy_train/circle/309.jpg\n",
            "toy_train/circle/615.jpg\n",
            "toy_train/circle/19.jpg\n",
            "toy_train/circle/482.jpg\n",
            "toy_train/circle/166.jpg\n",
            "toy_train/circle/141.jpg\n",
            "toy_train/circle/95.jpg\n",
            "toy_train/circle/658.jpg\n",
            "toy_train/circle/169.jpg\n",
            "toy_train/circle/484.jpg\n",
            "toy_train/circle/816.jpg\n",
            "toy_train/circle/754.jpg\n",
            "toy_train/circle/704.jpg\n",
            "toy_train/circle/535.jpg\n",
            "toy_train/circle/592.jpg\n",
            "toy_train/circle/829.jpg\n",
            "toy_train/circle/380.jpg\n",
            "toy_train/circle/326.jpg\n",
            "toy_train/circle/460.jpg\n",
            "toy_train/circle/774.jpg\n",
            "toy_train/circle/554.jpg\n",
            "toy_train/circle/847.jpg\n",
            "toy_train/circle/926.jpg\n",
            "toy_train/circle/633.jpg\n",
            "toy_train/circle/196.jpg\n",
            "toy_train/circle/698.jpg\n",
            "toy_train/circle/128.jpg\n",
            "toy_train/circle/388.jpg\n",
            "toy_train/circle/320.jpg\n",
            "toy_train/circle/242.jpg\n",
            "toy_train/circle/729.jpg\n",
            "toy_train/circle/477.jpg\n",
            "toy_train/circle/205.jpg\n",
            "toy_train/circle/261.jpg\n",
            "toy_train/circle/494.jpg\n",
            "toy_train/circle/855.jpg\n",
            "toy_train/circle/203.jpg\n",
            "toy_train/circle/619.jpg\n",
            "toy_train/circle/759.jpg\n",
            "toy_train/circle/467.jpg\n",
            "toy_train/circle/684.jpg\n",
            "toy_train/circle/752.jpg\n",
            "toy_train/circle/175.jpg\n",
            "toy_train/circle/760.jpg\n",
            "toy_train/circle/507.jpg\n",
            "toy_train/circle/900.jpg\n",
            "toy_train/circle/68.jpg\n",
            "toy_train/circle/250.jpg\n",
            "toy_train/circle/185.jpg\n",
            "toy_train/circle/278.jpg\n",
            "toy_train/circle/374.jpg\n",
            "toy_train/circle/674.jpg\n",
            "toy_train/circle/957.jpg\n",
            "toy_train/circle/664.jpg\n",
            "toy_train/circle/583.jpg\n",
            "toy_train/circle/914.jpg\n",
            "toy_train/circle/268.jpg\n",
            "toy_train/circle/335.jpg\n",
            "toy_train/circle/154.jpg\n",
            "toy_train/circle/980.jpg\n",
            "toy_train/circle/741.jpg\n",
            "toy_train/circle/840.jpg\n",
            "toy_train/circle/337.jpg\n",
            "toy_train/circle/240.jpg\n",
            "toy_train/circle/179.jpg\n",
            "toy_train/circle/364.jpg\n",
            "toy_train/circle/603.jpg\n",
            "toy_train/circle/87.jpg\n",
            "toy_train/circle/897.jpg\n",
            "toy_train/circle/867.jpg\n",
            "toy_train/circle/311.jpg\n",
            "toy_train/circle/197.jpg\n",
            "toy_train/circle/993.jpg\n",
            "toy_train/circle/206.jpg\n",
            "toy_train/circle/60.jpg\n",
            "toy_train/circle/347.jpg\n",
            "toy_train/circle/731.jpg\n",
            "toy_train/circle/726.jpg\n",
            "toy_train/circle/339.jpg\n",
            "toy_train/circle/808.jpg\n",
            "toy_train/circle/882.jpg\n",
            "toy_train/circle/384.jpg\n",
            "toy_train/circle/355.jpg\n",
            "toy_train/circle/6.jpg\n",
            "toy_train/circle/130.jpg\n",
            "toy_train/circle/356.jpg\n",
            "toy_train/circle/576.jpg\n",
            "toy_train/circle/37.jpg\n",
            "toy_train/circle/32.jpg\n",
            "toy_train/circle/105.jpg\n",
            "toy_train/circle/323.jpg\n",
            "toy_train/circle/400.jpg\n",
            "toy_train/circle/259.jpg\n",
            "toy_train/circle/742.jpg\n",
            "toy_train/circle/780.jpg\n",
            "toy_train/circle/444.jpg\n",
            "toy_train/circle/809.jpg\n",
            "toy_train/circle/56.jpg\n",
            "toy_train/circle/886.jpg\n",
            "toy_train/circle/814.jpg\n",
            "toy_train/circle/144.jpg\n",
            "toy_train/circle/341.jpg\n",
            "toy_train/circle/425.jpg\n",
            "toy_train/circle/950.jpg\n",
            "toy_train/circle/223.jpg\n",
            "toy_train/circle/20.jpg\n",
            "toy_train/circle/975.jpg\n",
            "toy_train/circle/641.jpg\n",
            "toy_train/circle/431.jpg\n",
            "toy_train/circle/233.jpg\n",
            "toy_train/circle/788.jpg\n",
            "toy_train/circle/39.jpg\n",
            "toy_train/circle/679.jpg\n",
            "toy_train/circle/153.jpg\n",
            "toy_train/circle/134.jpg\n",
            "toy_train/circle/779.jpg\n",
            "toy_train/circle/84.jpg\n",
            "toy_train/circle/352.jpg\n",
            "toy_train/circle/627.jpg\n",
            "toy_train/circle/952.jpg\n",
            "toy_train/circle/987.jpg\n",
            "toy_train/circle/38.jpg\n",
            "toy_train/circle/661.jpg\n",
            "toy_train/circle/767.jpg\n",
            "toy_train/circle/838.jpg\n",
            "toy_train/circle/613.jpg\n",
            "toy_train/circle/210.jpg\n",
            "toy_train/circle/221.jpg\n",
            "toy_train/circle/794.jpg\n",
            "toy_train/circle/746.jpg\n",
            "toy_train/circle/423.jpg\n",
            "toy_train/circle/131.jpg\n",
            "toy_train/circle/689.jpg\n",
            "toy_train/circle/753.jpg\n",
            "toy_train/circle/852.jpg\n",
            "toy_train/circle/755.jpg\n",
            "toy_train/circle/739.jpg\n",
            "toy_train/circle/167.jpg\n",
            "toy_train/circle/42.jpg\n",
            "toy_train/circle/802.jpg\n",
            "toy_train/circle/734.jpg\n",
            "toy_train/circle/915.jpg\n",
            "toy_train/circle/161.jpg\n",
            "toy_train/circle/231.jpg\n",
            "toy_train/circle/334.jpg\n",
            "toy_train/circle/249.jpg\n",
            "toy_train/circle/715.jpg\n",
            "toy_train/circle/72.jpg\n",
            "toy_train/circle/745.jpg\n",
            "toy_train/circle/8.jpg\n",
            "toy_train/circle/472.jpg\n",
            "toy_train/circle/512.jpg\n",
            "toy_train/circle/710.jpg\n",
            "toy_train/circle/165.jpg\n",
            "toy_train/circle/2.jpg\n",
            "toy_train/circle/969.jpg\n",
            "toy_train/circle/800.jpg\n",
            "toy_train/circle/676.jpg\n",
            "toy_train/circle/434.jpg\n",
            "toy_train/circle/413.jpg\n",
            "toy_train/circle/597.jpg\n",
            "toy_train/circle/450.jpg\n",
            "toy_train/circle/820.jpg\n",
            "toy_train/circle/593.jpg\n",
            "toy_train/circle/718.jpg\n",
            "toy_train/circle/248.jpg\n",
            "toy_train/circle/244.jpg\n",
            "toy_train/circle/365.jpg\n",
            "toy_train/circle/941.jpg\n",
            "toy_train/circle/830.jpg\n",
            "toy_train/circle/571.jpg\n",
            "toy_train/circle/490.jpg\n",
            "toy_train/circle/360.jpg\n",
            "toy_train/circle/53.jpg\n",
            "toy_train/circle/654.jpg\n",
            "toy_train/circle/699.jpg\n",
            "toy_train/circle/204.jpg\n",
            "toy_train/circle/937.jpg\n",
            "toy_train/circle/45.jpg\n",
            "toy_train/circle/83.jpg\n",
            "toy_train/circle/965.jpg\n",
            "toy_train/circle/14.jpg\n",
            "toy_train/circle/663.jpg\n",
            "toy_train/circle/246.jpg\n",
            "toy_train/circle/225.jpg\n",
            "toy_train/circle/85.jpg\n",
            "toy_train/circle/318.jpg\n",
            "toy_train/circle/271.jpg\n",
            "toy_train/circle/548.jpg\n",
            "toy_train/circle/962.jpg\n",
            "toy_train/circle/812.jpg\n",
            "toy_train/circle/559.jpg\n",
            "toy_train/circle/316.jpg\n",
            "toy_train/circle/970.jpg\n",
            "toy_train/circle/13.jpg\n",
            "toy_train/circle/112.jpg\n",
            "toy_train/circle/766.jpg\n",
            "toy_train/circle/549.jpg\n",
            "toy_train/circle/561.jpg\n",
            "toy_train/circle/743.jpg\n",
            "toy_train/circle/342.jpg\n",
            "toy_train/circle/293.jpg\n",
            "toy_train/circle/589.jpg\n",
            "toy_train/circle/236.jpg\n",
            "toy_train/circle/540.jpg\n",
            "toy_train/circle/932.jpg\n",
            "toy_train/circle/651.jpg\n",
            "toy_train/circle/375.jpg\n",
            "toy_train/circle/557.jpg\n",
            "toy_train/circle/927.jpg\n",
            "toy_train/circle/49.jpg\n",
            "toy_train/circle/740.jpg\n",
            "toy_train/circle/369.jpg\n",
            "toy_train/circle/33.jpg\n",
            "toy_train/circle/531.jpg\n",
            "toy_train/circle/299.jpg\n",
            "toy_train/circle/350.jpg\n",
            "toy_train/circle/101.jpg\n",
            "toy_train/circle/701.jpg\n",
            "toy_train/circle/665.jpg\n",
            "toy_train/circle/744.jpg\n",
            "toy_train/circle/330.jpg\n",
            "toy_train/circle/522.jpg\n",
            "toy_train/circle/209.jpg\n",
            "toy_train/circle/492.jpg\n",
            "toy_train/circle/801.jpg\n",
            "toy_train/circle/938.jpg\n",
            "toy_train/circle/59.jpg\n",
            "toy_train/circle/668.jpg\n",
            "toy_train/circle/738.jpg\n",
            "toy_train/circle/147.jpg\n",
            "toy_train/circle/373.jpg\n",
            "toy_train/circle/168.jpg\n",
            "toy_train/circle/790.jpg\n",
            "toy_train/circle/51.jpg\n",
            "toy_train/circle/176.jpg\n",
            "toy_train/circle/213.jpg\n",
            "toy_train/circle/765.jpg\n",
            "toy_train/circle/445.jpg\n",
            "toy_train/circle/301.jpg\n",
            "toy_train/circle/869.jpg\n",
            "toy_train/circle/833.jpg\n",
            "toy_train/circle/381.jpg\n",
            "toy_train/circle/140.jpg\n",
            "toy_train/circle/848.jpg\n",
            "toy_train/circle/74.jpg\n",
            "toy_train/circle/545.jpg\n",
            "toy_train/circle/616.jpg\n",
            "toy_train/circle/768.jpg\n",
            "toy_train/circle/121.jpg\n",
            "toy_train/circle/368.jpg\n",
            "toy_train/circle/487.jpg\n",
            "toy_train/circle/383.jpg\n",
            "toy_train/circle/528.jpg\n",
            "toy_train/circle/958.jpg\n",
            "toy_train/circle/621.jpg\n",
            "toy_train/circle/466.jpg\n",
            "toy_train/circle/163.jpg\n",
            "toy_train/circle/566.jpg\n",
            "toy_train/circle/218.jpg\n",
            "toy_train/circle/493.jpg\n",
            "toy_train/circle/313.jpg\n",
            "toy_train/circle/628.jpg\n",
            "toy_train/circle/625.jpg\n",
            "toy_train/circle/55.jpg\n",
            "toy_train/circle/560.jpg\n",
            "toy_train/circle/995.jpg\n",
            "toy_train/circle/129.jpg\n",
            "toy_train/circle/513.jpg\n",
            "toy_train/circle/626.jpg\n",
            "toy_train/circle/247.jpg\n",
            "toy_train/circle/17.jpg\n",
            "toy_train/circle/623.jpg\n",
            "toy_train/circle/202.jpg\n",
            "toy_train/circle/896.jpg\n",
            "toy_train/circle/890.jpg\n",
            "toy_train/circle/727.jpg\n",
            "toy_train/circle/550.jpg\n",
            "toy_train/circle/707.jpg\n",
            "toy_train/circle/183.jpg\n",
            "toy_train/circle/186.jpg\n",
            "toy_train/circle/786.jpg\n",
            "toy_train/circle/582.jpg\n",
            "toy_train/circle/349.jpg\n",
            "toy_train/circle/972.jpg\n",
            "toy_train/circle/959.jpg\n",
            "toy_train/circle/580.jpg\n",
            "toy_train/circle/973.jpg\n",
            "toy_train/circle/989.jpg\n",
            "toy_train/circle/940.jpg\n",
            "toy_train/circle/757.jpg\n",
            "toy_train/circle/257.jpg\n",
            "toy_train/circle/393.jpg\n",
            "toy_train/circle/624.jpg\n",
            "toy_train/circle/614.jpg\n",
            "toy_train/circle/966.jpg\n",
            "toy_train/circle/198.jpg\n",
            "toy_train/circle/99.jpg\n",
            "toy_train/rectangle/\n",
            "toy_train/rectangle/901.jpg\n",
            "toy_train/rectangle/910.jpg\n",
            "toy_train/rectangle/88.jpg\n",
            "toy_train/rectangle/868.jpg\n",
            "toy_train/rectangle/269.jpg\n",
            "toy_train/rectangle/362.jpg\n",
            "toy_train/rectangle/870.jpg\n",
            "toy_train/rectangle/955.jpg\n",
            "toy_train/rectangle/839.jpg\n",
            "toy_train/rectangle/404.jpg\n",
            "toy_train/rectangle/241.jpg\n",
            "toy_train/rectangle/303.jpg\n",
            "toy_train/rectangle/378.jpg\n",
            "toy_train/rectangle/455.jpg\n",
            "toy_train/rectangle/642.jpg\n",
            "toy_train/rectangle/570.jpg\n",
            "toy_train/rectangle/371.jpg\n",
            "toy_train/rectangle/883.jpg\n",
            "toy_train/rectangle/608.jpg\n",
            "toy_train/rectangle/392.jpg\n",
            "toy_train/rectangle/660.jpg\n",
            "toy_train/rectangle/907.jpg\n",
            "toy_train/rectangle/170.jpg\n",
            "toy_train/rectangle/287.jpg\n",
            "toy_train/rectangle/229.jpg\n",
            "toy_train/rectangle/92.jpg\n",
            "toy_train/rectangle/520.jpg\n",
            "toy_train/rectangle/325.jpg\n",
            "toy_train/rectangle/523.jpg\n",
            "toy_train/rectangle/75.jpg\n",
            "toy_train/rectangle/385.jpg\n",
            "toy_train/rectangle/408.jpg\n",
            "toy_train/rectangle/230.jpg\n",
            "toy_train/rectangle/58.jpg\n",
            "toy_train/rectangle/841.jpg\n",
            "toy_train/rectangle/736.jpg\n",
            "toy_train/rectangle/824.jpg\n",
            "toy_train/rectangle/516.jpg\n",
            "toy_train/rectangle/777.jpg\n",
            "toy_train/rectangle/700.jpg\n",
            "toy_train/rectangle/887.jpg\n",
            "toy_train/rectangle/565.jpg\n",
            "toy_train/rectangle/27.jpg\n",
            "toy_train/rectangle/253.jpg\n",
            "toy_train/rectangle/148.jpg\n",
            "toy_train/rectangle/977.jpg\n",
            "toy_train/rectangle/25.jpg\n",
            "toy_train/rectangle/978.jpg\n",
            "toy_train/rectangle/694.jpg\n",
            "toy_train/rectangle/22.jpg\n",
            "toy_train/rectangle/991.jpg\n",
            "toy_train/rectangle/537.jpg\n",
            "toy_train/rectangle/783.jpg\n",
            "toy_train/rectangle/631.jpg\n",
            "toy_train/rectangle/284.jpg\n",
            "toy_train/rectangle/78.jpg\n",
            "toy_train/rectangle/828.jpg\n",
            "toy_train/rectangle/728.jpg\n",
            "toy_train/rectangle/947.jpg\n",
            "toy_train/rectangle/457.jpg\n",
            "toy_train/rectangle/567.jpg\n",
            "toy_train/rectangle/386.jpg\n",
            "toy_train/rectangle/503.jpg\n",
            "toy_train/rectangle/171.jpg\n",
            "toy_train/rectangle/644.jpg\n",
            "toy_train/rectangle/898.jpg\n",
            "toy_train/rectangle/57.jpg\n",
            "toy_train/rectangle/611.jpg\n",
            "toy_train/rectangle/902.jpg\n",
            "toy_train/rectangle/805.jpg\n",
            "toy_train/rectangle/836.jpg\n",
            "toy_train/rectangle/758.jpg\n",
            "toy_train/rectangle/433.jpg\n",
            "toy_train/rectangle/0.jpg\n",
            "toy_train/rectangle/534.jpg\n",
            "toy_train/rectangle/298.jpg\n",
            "toy_train/rectangle/827.jpg\n",
            "toy_train/rectangle/366.jpg\n",
            "toy_train/rectangle/697.jpg\n",
            "toy_train/rectangle/720.jpg\n",
            "toy_train/rectangle/126.jpg\n",
            "toy_train/rectangle/761.jpg\n",
            "toy_train/rectangle/237.jpg\n",
            "toy_train/rectangle/499.jpg\n",
            "toy_train/rectangle/26.jpg\n",
            "toy_train/rectangle/893.jpg\n",
            "toy_train/rectangle/409.jpg\n",
            "toy_train/rectangle/454.jpg\n",
            "toy_train/rectangle/573.jpg\n",
            "toy_train/rectangle/30.jpg\n",
            "toy_train/rectangle/735.jpg\n",
            "toy_train/rectangle/639.jpg\n",
            "toy_train/rectangle/453.jpg\n",
            "toy_train/rectangle/551.jpg\n",
            "toy_train/rectangle/448.jpg\n",
            "toy_train/rectangle/866.jpg\n",
            "toy_train/rectangle/215.jpg\n",
            "toy_train/rectangle/343.jpg\n",
            "toy_train/rectangle/228.jpg\n",
            "toy_train/rectangle/300.jpg\n",
            "toy_train/rectangle/686.jpg\n",
            "toy_train/rectangle/279.jpg\n",
            "toy_train/rectangle/319.jpg\n",
            "toy_train/rectangle/574.jpg\n",
            "toy_train/rectangle/474.jpg\n",
            "toy_train/rectangle/806.jpg\n",
            "toy_train/rectangle/730.jpg\n",
            "toy_train/rectangle/91.jpg\n",
            "toy_train/rectangle/81.jpg\n",
            "toy_train/rectangle/508.jpg\n",
            "toy_train/rectangle/143.jpg\n",
            "toy_train/rectangle/115.jpg\n",
            "toy_train/rectangle/31.jpg\n",
            "toy_train/rectangle/605.jpg\n",
            "toy_train/rectangle/912.jpg\n",
            "toy_train/rectangle/683.jpg\n",
            "toy_train/rectangle/751.jpg\n",
            "toy_train/rectangle/331.jpg\n",
            "toy_train/rectangle/835.jpg\n",
            "toy_train/rectangle/146.jpg\n",
            "toy_train/rectangle/436.jpg\n",
            "toy_train/rectangle/609.jpg\n",
            "toy_train/rectangle/173.jpg\n",
            "toy_train/rectangle/125.jpg\n",
            "toy_train/rectangle/98.jpg\n",
            "toy_train/rectangle/945.jpg\n",
            "toy_train/rectangle/667.jpg\n",
            "toy_train/rectangle/294.jpg\n",
            "toy_train/rectangle/411.jpg\n",
            "toy_train/rectangle/489.jpg\n",
            "toy_train/rectangle/80.jpg\n",
            "toy_train/rectangle/415.jpg\n",
            "toy_train/rectangle/479.jpg\n",
            "toy_train/rectangle/40.jpg\n",
            "toy_train/rectangle/145.jpg\n",
            "toy_train/rectangle/943.jpg\n",
            "toy_train/rectangle/416.jpg\n",
            "toy_train/rectangle/526.jpg\n",
            "toy_train/rectangle/359.jpg\n",
            "toy_train/rectangle/584.jpg\n",
            "toy_train/rectangle/376.jpg\n",
            "toy_train/rectangle/984.jpg\n",
            "toy_train/rectangle/670.jpg\n",
            "toy_train/rectangle/277.jpg\n",
            "toy_train/rectangle/114.jpg\n",
            "toy_train/rectangle/285.jpg\n",
            "toy_train/rectangle/10.jpg\n",
            "toy_train/rectangle/792.jpg\n",
            "toy_train/rectangle/96.jpg\n",
            "toy_train/rectangle/286.jpg\n",
            "toy_train/rectangle/714.jpg\n",
            "toy_train/rectangle/687.jpg\n",
            "toy_train/rectangle/998.jpg\n",
            "toy_train/rectangle/610.jpg\n",
            "toy_train/rectangle/348.jpg\n",
            "toy_train/rectangle/692.jpg\n",
            "toy_train/rectangle/773.jpg\n",
            "toy_train/rectangle/164.jpg\n",
            "toy_train/rectangle/944.jpg\n",
            "toy_train/rectangle/481.jpg\n",
            "toy_train/rectangle/781.jpg\n",
            "toy_train/rectangle/44.jpg\n",
            "toy_train/rectangle/12.jpg\n",
            "toy_train/rectangle/563.jpg\n",
            "toy_train/rectangle/949.jpg\n",
            "toy_train/rectangle/199.jpg\n",
            "toy_train/rectangle/681.jpg\n",
            "toy_train/rectangle/968.jpg\n",
            "toy_train/rectangle/358.jpg\n",
            "toy_train/rectangle/18.jpg\n",
            "toy_train/rectangle/894.jpg\n",
            "toy_train/rectangle/156.jpg\n",
            "toy_train/rectangle/193.jpg\n",
            "toy_train/rectangle/401.jpg\n",
            "toy_train/rectangle/174.jpg\n",
            "toy_train/rectangle/332.jpg\n",
            "toy_train/rectangle/245.jpg\n",
            "toy_train/rectangle/100.jpg\n",
            "toy_train/rectangle/24.jpg\n",
            "toy_train/rectangle/86.jpg\n",
            "toy_train/rectangle/255.jpg\n",
            "toy_train/rectangle/452.jpg\n",
            "toy_train/rectangle/823.jpg\n",
            "toy_train/rectangle/917.jpg\n",
            "toy_train/rectangle/721.jpg\n",
            "toy_train/rectangle/119.jpg\n",
            "toy_train/rectangle/464.jpg\n",
            "toy_train/rectangle/63.jpg\n",
            "toy_train/rectangle/133.jpg\n",
            "toy_train/rectangle/680.jpg\n",
            "toy_train/rectangle/711.jpg\n",
            "toy_train/rectangle/850.jpg\n",
            "toy_train/rectangle/217.jpg\n",
            "toy_train/rectangle/964.jpg\n",
            "toy_train/rectangle/933.jpg\n",
            "toy_train/rectangle/296.jpg\n",
            "toy_train/rectangle/47.jpg\n",
            "toy_train/rectangle/717.jpg\n",
            "toy_train/rectangle/189.jpg\n",
            "toy_train/rectangle/137.jpg\n",
            "toy_train/rectangle/712.jpg\n",
            "toy_train/rectangle/429.jpg\n",
            "toy_train/rectangle/135.jpg\n",
            "toy_train/rectangle/282.jpg\n",
            "toy_train/rectangle/568.jpg\n",
            "toy_train/rectangle/295.jpg\n",
            "toy_train/rectangle/406.jpg\n",
            "toy_train/rectangle/542.jpg\n",
            "toy_train/rectangle/569.jpg\n",
            "toy_train/rectangle/515.jpg\n",
            "toy_train/rectangle/254.jpg\n",
            "toy_train/rectangle/390.jpg\n",
            "toy_train/rectangle/696.jpg\n",
            "toy_train/rectangle/555.jpg\n",
            "toy_train/rectangle/595.jpg\n",
            "toy_train/rectangle/11.jpg\n",
            "toy_train/rectangle/518.jpg\n",
            "toy_train/rectangle/652.jpg\n",
            "toy_train/rectangle/682.jpg\n",
            "toy_train/rectangle/239.jpg\n",
            "toy_train/rectangle/885.jpg\n",
            "toy_train/rectangle/500.jpg\n",
            "toy_train/rectangle/517.jpg\n",
            "toy_train/rectangle/653.jpg\n",
            "toy_train/rectangle/577.jpg\n",
            "toy_train/rectangle/273.jpg\n",
            "toy_train/rectangle/899.jpg\n",
            "toy_train/rectangle/23.jpg\n",
            "toy_train/rectangle/281.jpg\n",
            "toy_train/rectangle/159.jpg\n",
            "toy_train/rectangle/803.jpg\n",
            "toy_train/rectangle/845.jpg\n",
            "toy_train/rectangle/201.jpg\n",
            "toy_train/rectangle/106.jpg\n",
            "toy_train/rectangle/377.jpg\n",
            "toy_train/rectangle/688.jpg\n",
            "toy_train/rectangle/691.jpg\n",
            "toy_train/rectangle/723.jpg\n",
            "toy_train/rectangle/220.jpg\n",
            "toy_train/rectangle/305.jpg\n",
            "toy_train/rectangle/402.jpg\n",
            "toy_train/rectangle/252.jpg\n",
            "toy_train/rectangle/861.jpg\n",
            "toy_train/rectangle/214.jpg\n",
            "toy_train/rectangle/799.jpg\n",
            "toy_train/rectangle/618.jpg\n",
            "toy_train/rectangle/302.jpg\n",
            "toy_train/rectangle/417.jpg\n",
            "toy_train/rectangle/857.jpg\n",
            "toy_train/rectangle/391.jpg\n",
            "toy_train/rectangle/194.jpg\n",
            "toy_train/rectangle/936.jpg\n",
            "toy_train/rectangle/939.jpg\n",
            "toy_train/rectangle/69.jpg\n",
            "toy_train/rectangle/136.jpg\n",
            "toy_train/rectangle/911.jpg\n",
            "toy_train/rectangle/796.jpg\n",
            "toy_train/rectangle/308.jpg\n",
            "toy_train/rectangle/669.jpg\n",
            "toy_train/rectangle/772.jpg\n",
            "toy_train/rectangle/354.jpg\n",
            "toy_train/rectangle/831.jpg\n",
            "toy_train/rectangle/505.jpg\n",
            "toy_train/rectangle/591.jpg\n",
            "toy_train/rectangle/853.jpg\n",
            "toy_train/rectangle/398.jpg\n",
            "toy_train/rectangle/581.jpg\n",
            "toy_train/rectangle/439.jpg\n",
            "toy_train/rectangle/543.jpg\n",
            "toy_train/rectangle/289.jpg\n",
            "toy_train/rectangle/539.jpg\n",
            "toy_train/rectangle/546.jpg\n",
            "toy_train/rectangle/706.jpg\n",
            "toy_train/rectangle/430.jpg\n",
            "toy_train/rectangle/630.jpg\n",
            "toy_train/rectangle/353.jpg\n",
            "toy_train/rectangle/120.jpg\n",
            "toy_train/rectangle/370.jpg\n",
            "toy_train/rectangle/468.jpg\n",
            "toy_train/rectangle/327.jpg\n",
            "toy_train/rectangle/394.jpg\n",
            "toy_train/rectangle/575.jpg\n",
            "toy_train/rectangle/428.jpg\n",
            "toy_train/rectangle/785.jpg\n",
            "toy_train/rectangle/905.jpg\n",
            "toy_train/rectangle/314.jpg\n",
            "toy_train/rectangle/207.jpg\n",
            "toy_train/rectangle/826.jpg\n",
            "toy_train/rectangle/876.jpg\n",
            "toy_train/rectangle/748.jpg\n",
            "toy_train/rectangle/649.jpg\n",
            "toy_train/rectangle/983.jpg\n",
            "toy_train/rectangle/807.jpg\n",
            "toy_train/rectangle/997.jpg\n",
            "toy_train/rectangle/782.jpg\n",
            "toy_train/rectangle/283.jpg\n",
            "toy_train/rectangle/266.jpg\n",
            "toy_train/rectangle/713.jpg\n",
            "toy_train/rectangle/843.jpg\n",
            "toy_train/rectangle/441.jpg\n",
            "toy_train/rectangle/476.jpg\n",
            "toy_train/rectangle/265.jpg\n",
            "toy_train/rectangle/770.jpg\n",
            "toy_train/rectangle/863.jpg\n",
            "toy_train/rectangle/232.jpg\n",
            "toy_train/rectangle/916.jpg\n",
            "toy_train/rectangle/888.jpg\n",
            "toy_train/rectangle/310.jpg\n",
            "toy_train/rectangle/996.jpg\n",
            "toy_train/rectangle/967.jpg\n",
            "toy_train/rectangle/275.jpg\n",
            "toy_train/rectangle/815.jpg\n",
            "toy_train/rectangle/821.jpg\n",
            "toy_train/rectangle/529.jpg\n",
            "toy_train/rectangle/817.jpg\n",
            "toy_train/rectangle/903.jpg\n",
            "toy_train/rectangle/238.jpg\n",
            "toy_train/rectangle/21.jpg\n",
            "toy_train/rectangle/564.jpg\n",
            "toy_train/rectangle/541.jpg\n",
            "toy_train/rectangle/178.jpg\n",
            "toy_train/rectangle/435.jpg\n",
            "toy_train/rectangle/124.jpg\n",
            "toy_train/rectangle/491.jpg\n",
            "toy_train/rectangle/251.jpg\n",
            "toy_train/rectangle/981.jpg\n",
            "toy_train/rectangle/485.jpg\n",
            "toy_train/rectangle/908.jpg\n",
            "toy_train/rectangle/705.jpg\n",
            "toy_train/rectangle/637.jpg\n",
            "toy_train/rectangle/35.jpg\n",
            "toy_train/rectangle/387.jpg\n",
            "toy_train/rectangle/988.jpg\n",
            "toy_train/rectangle/775.jpg\n",
            "toy_train/rectangle/960.jpg\n",
            "toy_train/rectangle/41.jpg\n",
            "toy_train/rectangle/620.jpg\n",
            "toy_train/rectangle/953.jpg\n",
            "toy_train/rectangle/971.jpg\n",
            "toy_train/rectangle/527.jpg\n",
            "toy_train/rectangle/158.jpg\n",
            "toy_train/rectangle/111.jpg\n",
            "toy_train/rectangle/219.jpg\n",
            "toy_train/rectangle/976.jpg\n",
            "toy_train/rectangle/90.jpg\n",
            "toy_train/rectangle/71.jpg\n",
            "toy_train/rectangle/986.jpg\n",
            "toy_train/rectangle/421.jpg\n",
            "toy_train/rectangle/407.jpg\n",
            "toy_train/rectangle/270.jpg\n",
            "toy_train/rectangle/65.jpg\n",
            "toy_train/rectangle/750.jpg\n",
            "toy_train/rectangle/116.jpg\n",
            "toy_train/rectangle/837.jpg\n",
            "toy_train/rectangle/432.jpg\n",
            "toy_train/rectangle/638.jpg\n",
            "toy_train/rectangle/879.jpg\n",
            "toy_train/rectangle/596.jpg\n",
            "toy_train/rectangle/822.jpg\n",
            "toy_train/rectangle/506.jpg\n",
            "toy_train/rectangle/438.jpg\n",
            "toy_train/rectangle/994.jpg\n",
            "toy_train/rectangle/525.jpg\n",
            "toy_train/rectangle/851.jpg\n",
            "toy_train/rectangle/155.jpg\n",
            "toy_train/rectangle/769.jpg\n",
            "toy_train/rectangle/880.jpg\n",
            "toy_train/rectangle/519.jpg\n",
            "toy_train/rectangle/675.jpg\n",
            "toy_train/rectangle/598.jpg\n",
            "toy_train/rectangle/671.jpg\n",
            "toy_train/rectangle/635.jpg\n",
            "toy_train/rectangle/458.jpg\n",
            "toy_train/rectangle/315.jpg\n",
            "toy_train/rectangle/722.jpg\n",
            "toy_train/rectangle/913.jpg\n",
            "toy_train/rectangle/70.jpg\n",
            "toy_train/rectangle/67.jpg\n",
            "toy_train/rectangle/999.jpg\n",
            "toy_train/rectangle/804.jpg\n",
            "toy_train/rectangle/923.jpg\n",
            "toy_train/rectangle/264.jpg\n",
            "toy_train/rectangle/469.jpg\n",
            "toy_train/rectangle/859.jpg\n",
            "toy_train/rectangle/322.jpg\n",
            "toy_train/rectangle/632.jpg\n",
            "toy_train/rectangle/919.jpg\n",
            "toy_train/rectangle/544.jpg\n",
            "toy_train/rectangle/784.jpg\n",
            "toy_train/rectangle/288.jpg\n",
            "toy_train/rectangle/109.jpg\n",
            "toy_train/rectangle/437.jpg\n",
            "toy_train/rectangle/553.jpg\n",
            "toy_train/rectangle/317.jpg\n",
            "toy_train/rectangle/662.jpg\n",
            "toy_train/rectangle/872.jpg\n",
            "toy_train/rectangle/787.jpg\n",
            "toy_train/rectangle/61.jpg\n",
            "toy_train/rectangle/733.jpg\n",
            "toy_train/rectangle/895.jpg\n",
            "toy_train/rectangle/478.jpg\n",
            "toy_train/rectangle/227.jpg\n",
            "toy_train/rectangle/475.jpg\n",
            "toy_train/rectangle/7.jpg\n",
            "toy_train/rectangle/66.jpg\n",
            "toy_train/rectangle/677.jpg\n",
            "toy_train/rectangle/532.jpg\n",
            "toy_train/rectangle/776.jpg\n",
            "toy_train/rectangle/446.jpg\n",
            "toy_train/rectangle/846.jpg\n",
            "toy_train/rectangle/243.jpg\n",
            "toy_train/rectangle/810.jpg\n",
            "toy_train/rectangle/648.jpg\n",
            "toy_train/rectangle/280.jpg\n",
            "toy_train/rectangle/498.jpg\n",
            "toy_train/rectangle/258.jpg\n",
            "toy_train/rectangle/856.jpg\n",
            "toy_train/rectangle/832.jpg\n",
            "toy_train/rectangle/16.jpg\n",
            "toy_train/rectangle/703.jpg\n",
            "toy_train/rectangle/990.jpg\n",
            "toy_train/rectangle/602.jpg\n",
            "toy_train/rectangle/321.jpg\n",
            "toy_train/rectangle/226.jpg\n",
            "toy_train/rectangle/449.jpg\n",
            "toy_train/rectangle/497.jpg\n",
            "toy_train/rectangle/695.jpg\n",
            "toy_train/rectangle/588.jpg\n",
            "toy_train/rectangle/884.jpg\n",
            "toy_train/rectangle/157.jpg\n",
            "toy_train/rectangle/1.jpg\n",
            "toy_train/rectangle/117.jpg\n",
            "toy_train/rectangle/992.jpg\n",
            "toy_train/rectangle/162.jpg\n",
            "toy_train/rectangle/480.jpg\n",
            "toy_train/rectangle/702.jpg\n",
            "toy_train/rectangle/379.jpg\n",
            "toy_train/rectangle/396.jpg\n",
            "toy_train/rectangle/54.jpg\n",
            "toy_train/rectangle/222.jpg\n",
            "toy_train/rectangle/459.jpg\n",
            "toy_train/rectangle/123.jpg\n",
            "toy_train/rectangle/4.jpg\n",
            "toy_train/rectangle/672.jpg\n",
            "toy_train/rectangle/511.jpg\n",
            "toy_train/rectangle/192.jpg\n",
            "toy_train/rectangle/177.jpg\n",
            "toy_train/rectangle/929.jpg\n",
            "toy_train/rectangle/274.jpg\n",
            "toy_train/rectangle/496.jpg\n",
            "toy_train/rectangle/152.jpg\n",
            "toy_train/rectangle/443.jpg\n",
            "toy_train/rectangle/48.jpg\n",
            "toy_train/rectangle/405.jpg\n",
            "toy_train/rectangle/858.jpg\n",
            "toy_train/rectangle/874.jpg\n",
            "toy_train/rectangle/180.jpg\n",
            "toy_train/rectangle/399.jpg\n",
            "toy_train/rectangle/50.jpg\n",
            "toy_train/rectangle/181.jpg\n",
            "toy_train/rectangle/636.jpg\n",
            "toy_train/rectangle/200.jpg\n",
            "toy_train/rectangle/586.jpg\n",
            "toy_train/rectangle/825.jpg\n",
            "toy_train/rectangle/922.jpg\n",
            "toy_train/rectangle/43.jpg\n",
            "toy_train/rectangle/585.jpg\n",
            "toy_train/rectangle/961.jpg\n",
            "toy_train/rectangle/724.jpg\n",
            "toy_train/rectangle/292.jpg\n",
            "toy_train/rectangle/461.jpg\n",
            "toy_train/rectangle/195.jpg\n",
            "toy_train/rectangle/256.jpg\n",
            "toy_train/rectangle/190.jpg\n",
            "toy_train/rectangle/645.jpg\n",
            "toy_train/rectangle/862.jpg\n",
            "toy_train/rectangle/108.jpg\n",
            "toy_train/rectangle/629.jpg\n",
            "toy_train/rectangle/462.jpg\n",
            "toy_train/rectangle/107.jpg\n",
            "toy_train/rectangle/538.jpg\n",
            "toy_train/rectangle/547.jpg\n",
            "toy_train/rectangle/495.jpg\n",
            "toy_train/rectangle/956.jpg\n",
            "toy_train/rectangle/818.jpg\n",
            "toy_train/rectangle/764.jpg\n",
            "toy_train/rectangle/46.jpg\n",
            "toy_train/rectangle/982.jpg\n",
            "toy_train/rectangle/708.jpg\n",
            "toy_train/rectangle/272.jpg\n",
            "toy_train/rectangle/382.jpg\n",
            "toy_train/rectangle/617.jpg\n",
            "toy_train/rectangle/600.jpg\n",
            "toy_train/rectangle/685.jpg\n",
            "toy_train/rectangle/719.jpg\n",
            "toy_train/rectangle/363.jpg\n",
            "toy_train/rectangle/612.jpg\n",
            "toy_train/rectangle/924.jpg\n",
            "toy_train/rectangle/942.jpg\n",
            "toy_train/rectangle/906.jpg\n",
            "toy_train/rectangle/150.jpg\n",
            "toy_train/rectangle/307.jpg\n",
            "toy_train/rectangle/94.jpg\n",
            "toy_train/rectangle/414.jpg\n",
            "toy_train/rectangle/659.jpg\n",
            "toy_train/rectangle/77.jpg\n",
            "toy_val/\n",
            "toy_val/circle/\n",
            "toy_val/circle/88.jpg\n",
            "toy_val/circle/113.jpg\n",
            "toy_val/circle/170.jpg\n",
            "toy_val/circle/5.jpg\n",
            "toy_val/circle/188.jpg\n",
            "toy_val/circle/36.jpg\n",
            "toy_val/circle/27.jpg\n",
            "toy_val/circle/148.jpg\n",
            "toy_val/circle/93.jpg\n",
            "toy_val/circle/25.jpg\n",
            "toy_val/circle/110.jpg\n",
            "toy_val/circle/78.jpg\n",
            "toy_val/circle/118.jpg\n",
            "toy_val/circle/132.jpg\n",
            "toy_val/circle/171.jpg\n",
            "toy_val/circle/57.jpg\n",
            "toy_val/circle/0.jpg\n",
            "toy_val/circle/126.jpg\n",
            "toy_val/circle/9.jpg\n",
            "toy_val/circle/187.jpg\n",
            "toy_val/circle/34.jpg\n",
            "toy_val/circle/151.jpg\n",
            "toy_val/circle/182.jpg\n",
            "toy_val/circle/143.jpg\n",
            "toy_val/circle/115.jpg\n",
            "toy_val/circle/29.jpg\n",
            "toy_val/circle/52.jpg\n",
            "toy_val/circle/80.jpg\n",
            "toy_val/circle/172.jpg\n",
            "toy_val/circle/145.jpg\n",
            "toy_val/circle/89.jpg\n",
            "toy_val/circle/122.jpg\n",
            "toy_val/circle/114.jpg\n",
            "toy_val/circle/10.jpg\n",
            "toy_val/circle/96.jpg\n",
            "toy_val/circle/127.jpg\n",
            "toy_val/circle/199.jpg\n",
            "toy_val/circle/18.jpg\n",
            "toy_val/circle/149.jpg\n",
            "toy_val/circle/79.jpg\n",
            "toy_val/circle/24.jpg\n",
            "toy_val/circle/86.jpg\n",
            "toy_val/circle/119.jpg\n",
            "toy_val/circle/62.jpg\n",
            "toy_val/circle/19.jpg\n",
            "toy_val/circle/166.jpg\n",
            "toy_val/circle/141.jpg\n",
            "toy_val/circle/23.jpg\n",
            "toy_val/circle/196.jpg\n",
            "toy_val/circle/128.jpg\n",
            "toy_val/circle/106.jpg\n",
            "toy_val/circle/175.jpg\n",
            "toy_val/circle/185.jpg\n",
            "toy_val/circle/154.jpg\n",
            "toy_val/circle/179.jpg\n",
            "toy_val/circle/120.jpg\n",
            "toy_val/circle/60.jpg\n",
            "toy_val/circle/37.jpg\n",
            "toy_val/circle/56.jpg\n",
            "toy_val/circle/144.jpg\n",
            "toy_val/circle/20.jpg\n",
            "toy_val/circle/134.jpg\n",
            "toy_val/circle/84.jpg\n",
            "toy_val/circle/38.jpg\n",
            "toy_val/circle/35.jpg\n",
            "toy_val/circle/167.jpg\n",
            "toy_val/circle/71.jpg\n",
            "toy_val/circle/72.jpg\n",
            "toy_val/circle/8.jpg\n",
            "toy_val/circle/165.jpg\n",
            "toy_val/circle/2.jpg\n",
            "toy_val/circle/65.jpg\n",
            "toy_val/circle/116.jpg\n",
            "toy_val/circle/155.jpg\n",
            "toy_val/circle/45.jpg\n",
            "toy_val/circle/14.jpg\n",
            "toy_val/circle/67.jpg\n",
            "toy_val/circle/13.jpg\n",
            "toy_val/circle/112.jpg\n",
            "toy_val/circle/49.jpg\n",
            "toy_val/circle/61.jpg\n",
            "toy_val/circle/16.jpg\n",
            "toy_val/circle/59.jpg\n",
            "toy_val/circle/147.jpg\n",
            "toy_val/circle/168.jpg\n",
            "toy_val/circle/4.jpg\n",
            "toy_val/circle/140.jpg\n",
            "toy_val/circle/152.jpg\n",
            "toy_val/circle/121.jpg\n",
            "toy_val/circle/48.jpg\n",
            "toy_val/circle/195.jpg\n",
            "toy_val/circle/190.jpg\n",
            "toy_val/circle/55.jpg\n",
            "toy_val/circle/108.jpg\n",
            "toy_val/circle/129.jpg\n",
            "toy_val/circle/17.jpg\n",
            "toy_val/circle/183.jpg\n",
            "toy_val/circle/99.jpg\n",
            "toy_val/rectangle/\n",
            "toy_val/rectangle/82.jpg\n",
            "toy_val/rectangle/191.jpg\n",
            "toy_val/rectangle/92.jpg\n",
            "toy_val/rectangle/75.jpg\n",
            "toy_val/rectangle/58.jpg\n",
            "toy_val/rectangle/3.jpg\n",
            "toy_val/rectangle/184.jpg\n",
            "toy_val/rectangle/73.jpg\n",
            "toy_val/rectangle/22.jpg\n",
            "toy_val/rectangle/102.jpg\n",
            "toy_val/rectangle/26.jpg\n",
            "toy_val/rectangle/30.jpg\n",
            "toy_val/rectangle/15.jpg\n",
            "toy_val/rectangle/91.jpg\n",
            "toy_val/rectangle/81.jpg\n",
            "toy_val/rectangle/31.jpg\n",
            "toy_val/rectangle/64.jpg\n",
            "toy_val/rectangle/146.jpg\n",
            "toy_val/rectangle/173.jpg\n",
            "toy_val/rectangle/125.jpg\n",
            "toy_val/rectangle/98.jpg\n",
            "toy_val/rectangle/160.jpg\n",
            "toy_val/rectangle/40.jpg\n",
            "toy_val/rectangle/142.jpg\n",
            "toy_val/rectangle/138.jpg\n",
            "toy_val/rectangle/164.jpg\n",
            "toy_val/rectangle/44.jpg\n",
            "toy_val/rectangle/12.jpg\n",
            "toy_val/rectangle/104.jpg\n",
            "toy_val/rectangle/156.jpg\n",
            "toy_val/rectangle/193.jpg\n",
            "toy_val/rectangle/174.jpg\n",
            "toy_val/rectangle/100.jpg\n",
            "toy_val/rectangle/103.jpg\n",
            "toy_val/rectangle/76.jpg\n",
            "toy_val/rectangle/63.jpg\n",
            "toy_val/rectangle/28.jpg\n",
            "toy_val/rectangle/133.jpg\n",
            "toy_val/rectangle/139.jpg\n",
            "toy_val/rectangle/47.jpg\n",
            "toy_val/rectangle/189.jpg\n",
            "toy_val/rectangle/137.jpg\n",
            "toy_val/rectangle/135.jpg\n",
            "toy_val/rectangle/97.jpg\n",
            "toy_val/rectangle/11.jpg\n",
            "toy_val/rectangle/95.jpg\n",
            "toy_val/rectangle/169.jpg\n",
            "toy_val/rectangle/159.jpg\n",
            "toy_val/rectangle/68.jpg\n",
            "toy_val/rectangle/194.jpg\n",
            "toy_val/rectangle/69.jpg\n",
            "toy_val/rectangle/136.jpg\n",
            "toy_val/rectangle/87.jpg\n",
            "toy_val/rectangle/197.jpg\n",
            "toy_val/rectangle/6.jpg\n",
            "toy_val/rectangle/130.jpg\n",
            "toy_val/rectangle/32.jpg\n",
            "toy_val/rectangle/105.jpg\n",
            "toy_val/rectangle/39.jpg\n",
            "toy_val/rectangle/153.jpg\n",
            "toy_val/rectangle/21.jpg\n",
            "toy_val/rectangle/178.jpg\n",
            "toy_val/rectangle/124.jpg\n",
            "toy_val/rectangle/131.jpg\n",
            "toy_val/rectangle/41.jpg\n",
            "toy_val/rectangle/42.jpg\n",
            "toy_val/rectangle/158.jpg\n",
            "toy_val/rectangle/111.jpg\n",
            "toy_val/rectangle/90.jpg\n",
            "toy_val/rectangle/161.jpg\n",
            "toy_val/rectangle/53.jpg\n",
            "toy_val/rectangle/83.jpg\n",
            "toy_val/rectangle/85.jpg\n",
            "toy_val/rectangle/70.jpg\n",
            "toy_val/rectangle/109.jpg\n",
            "toy_val/rectangle/33.jpg\n",
            "toy_val/rectangle/101.jpg\n",
            "toy_val/rectangle/7.jpg\n",
            "toy_val/rectangle/66.jpg\n",
            "toy_val/rectangle/157.jpg\n",
            "toy_val/rectangle/1.jpg\n",
            "toy_val/rectangle/117.jpg\n",
            "toy_val/rectangle/162.jpg\n",
            "toy_val/rectangle/54.jpg\n",
            "toy_val/rectangle/51.jpg\n",
            "toy_val/rectangle/176.jpg\n",
            "toy_val/rectangle/123.jpg\n",
            "toy_val/rectangle/192.jpg\n",
            "toy_val/rectangle/177.jpg\n",
            "toy_val/rectangle/74.jpg\n",
            "toy_val/rectangle/180.jpg\n",
            "toy_val/rectangle/50.jpg\n",
            "toy_val/rectangle/181.jpg\n",
            "toy_val/rectangle/163.jpg\n",
            "toy_val/rectangle/43.jpg\n",
            "toy_val/rectangle/107.jpg\n",
            "toy_val/rectangle/186.jpg\n",
            "toy_val/rectangle/46.jpg\n",
            "toy_val/rectangle/150.jpg\n",
            "toy_val/rectangle/94.jpg\n",
            "toy_val/rectangle/198.jpg\n",
            "toy_val/rectangle/77.jpg\n"
          ]
        }
      ]
    },
    {
      "cell_type": "markdown",
      "source": [
        "###Creating the training and validation data and Visualizing the images"
      ],
      "metadata": {
        "id": "BjbQwi49frzB"
      }
    },
    {
      "cell_type": "code",
      "source": [
        "\n",
        "data_dir_train = \"/content/toy_train\"\n",
        "data_dir_val = \"/content/toy_val\"\n",
        "categories = ['circle','rectangle']\n",
        "\n",
        "for category in categories:\n",
        "  path = os.path.join(data_dir_train,category)\n",
        "  for img in os.listdir(path):\n",
        "    img_array = cv2.imread(os.path.join(path,img), cv2.IMREAD_GRAYSCALE)\n",
        "    plt.imshow(img_array, cmap = \"gray\")\n",
        "    plt.show()\n",
        "    break\n",
        "  break"
      ],
      "metadata": {
        "colab": {
          "base_uri": "https://localhost:8080/",
          "height": 268
        },
        "id": "qoqqiUk2ZLv_",
        "outputId": "3dccaa49-5970-4cfe-d761-cb94eaefa193"
      },
      "execution_count": null,
      "outputs": [
        {
          "output_type": "display_data",
          "data": {
            "text/plain": [
              "<Figure size 432x288 with 1 Axes>"
            ],
            "image/png": "[encoded data removed]"
          },
          "metadata": {
            "needs_background": "light"
          }
        }
      ]
    },
    {
      "cell_type": "code",
      "source": [
        "#original size of the image\n",
        "print(img_array.shape)"
      ],
      "metadata": {
        "id": "YKMurstwZmeE",
        "colab": {
          "base_uri": "https://localhost:8080/"
        },
        "outputId": "6a47ea2e-aa67-4aa3-df79-909ae3deeb3b"
      },
      "execution_count": null,
      "outputs": [
        {
          "output_type": "stream",
          "name": "stdout",
          "text": [
            "(64, 64)\n"
          ]
        }
      ]
    },
    {
      "cell_type": "code",
      "source": [
        "#reducing the img size to 25,25 to reduce parameters in nn\n",
        "img_size = 25\n",
        "\n",
        "new_img = cv2.resize(img_array, (img_size,img_size))\n",
        "plt.imshow(new_img, cmap = 'gray')\n",
        "plt.show()"
      ],
      "metadata": {
        "id": "fPq13SNSLOKV",
        "colab": {
          "base_uri": "https://localhost:8080/",
          "height": 265
        },
        "outputId": "7e9be775-7352-4779-b1b8-b144c2b058ff"
      },
      "execution_count": null,
      "outputs": [
        {
          "output_type": "display_data",
          "data": {
            "text/plain": [
              "<Figure size 432x288 with 1 Axes>"
            ],
            "image/png": "[encoded data removed]"
          },
          "metadata": {
            "needs_background": "light"
          }
        }
      ]
    },
    {
      "cell_type": "code",
      "source": [
        "training_data = []\n",
        "val_data = []\n",
        "\n",
        "def create_training_data():\n",
        "  for category in categories:\n",
        "    path = os.path.join(data_dir_train,category)\n",
        "    class_num = categories.index(category)\n",
        "    for img in os.listdir(path):\n",
        "      img_array = cv2.imread(os.path.join(path,img))\n",
        "      gray_image = cv2.cvtColor(img_array, cv2.COLOR_BGR2GRAY)\n",
        "      new_img = cv2.resize(gray_image, (img_size,img_size))\n",
        "      training_data.append([torchvision.transforms.functional.to_tensor(new_img) , torch.tensor(class_num, dtype=torch.int8)])\n",
        "\n",
        "def create_val_data():\n",
        "  for category in categories:\n",
        "    path = os.path.join(data_dir_val,category)\n",
        "    class_num = categories.index(category)\n",
        "    for img in os.listdir(path):\n",
        "      img_array = cv2.imread(os.path.join(path,img))\n",
        "      gray_image = cv2.cvtColor(img_array, cv2.COLOR_BGR2GRAY)\n",
        "      new_img = cv2.resize(gray_image, (img_size,img_size))\n",
        "      val_data.append([torchvision.transforms.functional.to_tensor(new_img) , torch.tensor(class_num, dtype=torch.int8)])\n",
        "\n",
        "create_training_data()\n",
        "create_val_data()\n",
        "\n"
      ],
      "metadata": {
        "id": "4hlQrlLoLwFU"
      },
      "execution_count": null,
      "outputs": []
    },
    {
      "cell_type": "code",
      "source": [
        "print(len(training_data))"
      ],
      "metadata": {
        "id": "qecdZymKMZuJ",
        "colab": {
          "base_uri": "https://localhost:8080/"
        },
        "outputId": "204801aa-e7d0-41c3-9cdd-26d73f728de6"
      },
      "execution_count": null,
      "outputs": [
        {
          "output_type": "stream",
          "name": "stdout",
          "text": [
            "1000\n"
          ]
        }
      ]
    },
    {
      "cell_type": "code",
      "source": [
        "training_data[0][0].shape"
      ],
      "metadata": {
        "id": "wbYEuHMl1Jtv",
        "colab": {
          "base_uri": "https://localhost:8080/"
        },
        "outputId": "3459e755-4584-4af0-d3ec-7f82c515a4b2"
      },
      "execution_count": null,
      "outputs": [
        {
          "output_type": "execute_result",
          "data": {
            "text/plain": [
              "torch.Size([1, 25, 25])"
            ]
          },
          "metadata": {},
          "execution_count": 12
        }
      ]
    },
    {
      "cell_type": "code",
      "source": [
        "#randomizing the training and validation data lists \n",
        "\n",
        "import random\n",
        "\n",
        "random.shuffle(training_data)\n",
        "random.shuffle(val_data)"
      ],
      "metadata": {
        "id": "qUhsAiF4iC7t"
      },
      "execution_count": null,
      "outputs": []
    },
    {
      "cell_type": "code",
      "source": [
        "#label of first 10 images in training data\n",
        "for x,y in training_data[:10]:\n",
        "    print(y)"
      ],
      "metadata": {
        "id": "uXYC-Bn6eHg1",
        "colab": {
          "base_uri": "https://localhost:8080/"
        },
        "outputId": "75ce6a79-ad87-489f-e11b-c305d77bc5b2"
      },
      "execution_count": null,
      "outputs": [
        {
          "output_type": "stream",
          "name": "stdout",
          "text": [
            "tensor(1, dtype=torch.int8)\n",
            "tensor(0, dtype=torch.int8)\n",
            "tensor(1, dtype=torch.int8)\n",
            "tensor(1, dtype=torch.int8)\n",
            "tensor(0, dtype=torch.int8)\n",
            "tensor(0, dtype=torch.int8)\n",
            "tensor(1, dtype=torch.int8)\n",
            "tensor(0, dtype=torch.int8)\n",
            "tensor(1, dtype=torch.int8)\n",
            "tensor(1, dtype=torch.int8)\n"
          ]
        }
      ]
    },
    {
      "cell_type": "code",
      "source": [
        "# label of first 10 images in validation data\n",
        "for x,y in val_data[:10]:\n",
        "    print(y)"
      ],
      "metadata": {
        "id": "5KeW6zAka0QH",
        "colab": {
          "base_uri": "https://localhost:8080/"
        },
        "outputId": "1b2a0d7b-716e-44f7-b836-c7ed4286413e"
      },
      "execution_count": null,
      "outputs": [
        {
          "output_type": "stream",
          "name": "stdout",
          "text": [
            "tensor(0, dtype=torch.int8)\n",
            "tensor(0, dtype=torch.int8)\n",
            "tensor(1, dtype=torch.int8)\n",
            "tensor(0, dtype=torch.int8)\n",
            "tensor(1, dtype=torch.int8)\n",
            "tensor(0, dtype=torch.int8)\n",
            "tensor(1, dtype=torch.int8)\n",
            "tensor(0, dtype=torch.int8)\n",
            "tensor(0, dtype=torch.int8)\n",
            "tensor(0, dtype=torch.int8)\n"
          ]
        }
      ]
    },
    {
      "cell_type": "markdown",
      "source": [
        "using DataLoader, creating the train_loader and val_loader"
      ],
      "metadata": {
        "id": "tszSSibJf6Wm"
      }
    },
    {
      "cell_type": "code",
      "source": [
        "train_loader = torch.utils.data.DataLoader(dataset = training_data)\n",
        "val_loader = torch.utils.data.DataLoader(dataset = val_data)"
      ],
      "metadata": {
        "id": "PE1vbv_cFBbW"
      },
      "execution_count": null,
      "outputs": []
    },
    {
      "cell_type": "markdown",
      "source": [
        "### *Visualizing the Neural Network*"
      ],
      "metadata": {
        "id": "y8XaTq5kgC6_"
      }
    },
    {
      "cell_type": "code",
      "source": [
        "def conv_output_shape(h_w, kernel_size=1, stride=1, pad=0, dilation=1):\n",
        "    #by Duane Nielsen\n",
        "    from math import floor\n",
        "    if type(kernel_size) is not tuple:\n",
        "        kernel_size = (kernel_size, kernel_size)\n",
        "    h = floor( ((h_w[0] + (2 * pad) - ( dilation * (kernel_size[0] - 1) ) - 1 )/ stride) + 1)\n",
        "    w = floor( ((h_w[1] + (2 * pad) - ( dilation * (kernel_size[1] - 1) ) - 1 )/ stride) + 1)\n",
        "    return h, w"
      ],
      "metadata": {
        "id": "J5-lgWck7k26"
      },
      "execution_count": null,
      "outputs": []
    },
    {
      "cell_type": "code",
      "source": [
        "#Calculating the final shape of input Features before flattening \n",
        "\n",
        "out = conv_output_shape((25,25), kernel_size=5, stride=1, pad=0, dilation=1)\n",
        "print(out)\n",
        "out1 = conv_output_shape(out, kernel_size=3, stride=1, pad=0, dilation=1)\n",
        "print(out1)\n",
        "out2 = conv_output_shape(out1, kernel_size=5, stride= 1, pad=0, dilation=1)\n",
        "print(out2)\n",
        "out3 = conv_output_shape(out2, kernel_size=3, stride=1, pad=0, dilation=1)\n",
        "print(out3)\n",
        "out4 = conv_output_shape(out3, kernel_size = 5, stride = 1, pad = 0, dilation = 1)\n",
        "print(out4)\n",
        "out5 = conv_output_shape(out4,kernel_size = 3, stride = 1, pad =0 , dilation = 1)\n",
        "print(out5)"
      ],
      "metadata": {
        "id": "63iUJs7x64Y6",
        "colab": {
          "base_uri": "https://localhost:8080/"
        },
        "outputId": "3e4ef685-0c37-4f25-f0a8-297d81dc5afd"
      },
      "execution_count": null,
      "outputs": [
        {
          "output_type": "stream",
          "name": "stdout",
          "text": [
            "(21, 21)\n",
            "(19, 19)\n",
            "(15, 15)\n",
            "(13, 13)\n",
            "(9, 9)\n",
            "(7, 7)\n"
          ]
        }
      ]
    },
    {
      "cell_type": "markdown",
      "source": [
        "Creating the CNN with 3 Convolution Layers and 2 hidden Layers "
      ],
      "metadata": {
        "id": "ej2FxBI9gNEl"
      }
    },
    {
      "cell_type": "code",
      "source": [
        "class CNN(nn.Module):\n",
        "  def __init__(self,out_1 = 16 ,out_2 = 32,out_3 = 64):\n",
        "    super(CNN,self).__init__()\n",
        "    self.cnn1 = nn.Conv2d(in_channels= 1 , out_channels = out_1 , kernel_size = 5)\n",
        "    self.conv1_bn = nn.BatchNorm2d(out_1)\n",
        "    self.maxpool1 = nn.MaxPool2d(kernel_size = 3, stride = 1)\n",
        "    self.cnn2 = nn.Conv2d(in_channels= out_1 , out_channels = out_2 , kernel_size = 5)\n",
        "    self.conv2_bn = nn.BatchNorm2d(out_2)\n",
        "    self.maxpool2 = nn.MaxPool2d(kernel_size = 3, stride = 1)\n",
        "    self.cnn3 = nn.Conv2d(in_channels = out_2, out_channels = out_3, kernel_size = 5)\n",
        "    self.conv3_bn = nn.BatchNorm2d(out_3)\n",
        "    self.maxpool3 = nn.MaxPool2d(kernel_size = 3, stride = 1)\n",
        "    self.fc1 = nn.Linear(out_3*7*7,50)\n",
        "    self.drop = nn.Dropout(0.50)\n",
        "    self.fc2 = nn.Linear(50,2)\n",
        "    \n",
        "\n",
        "\n",
        "  def forward(self,x):\n",
        "    x = self.cnn1(x)\n",
        "    x = self.conv1_bn(x)\n",
        "  #  print(x.shape)\n",
        "    x = torch.relu(x)\n",
        "    x = self.maxpool1(x)\n",
        "   # print(x.shape)\n",
        "    x = self.cnn2(x)\n",
        "   # print(x.shape)\n",
        "    x = self.conv2_bn(x)\n",
        "    x = torch.relu(x)\n",
        "    x = self.maxpool2(x)\n",
        "  #  print(x.shape)\n",
        "    x = self.cnn3(x)\n",
        "   # print(x.shape)\n",
        "    x = self.conv3_bn(x)\n",
        "  #  print(x.shape)\n",
        "    x = torch.relu(x)\n",
        "    x = self.maxpool3(x)\n",
        "   # print(x.shape)\n",
        "    x = x.view(x.shape[0], -1)\n",
        "    x = self.fc1(x)\n",
        "    x = self.drop(x)\n",
        "    x = torch.relu(x)\n",
        "    x = self.fc2(x)\n",
        "    return x"
      ],
      "metadata": {
        "id": "RrxJjuM-RRC_"
      },
      "execution_count": null,
      "outputs": []
    },
    {
      "cell_type": "markdown",
      "source": [
        "Creating the CNN model adn sending it to available device"
      ],
      "metadata": {
        "id": "fr1a5LgGhJFz"
      }
    },
    {
      "cell_type": "code",
      "source": [
        "model = CNN()\n",
        "model.to(device)"
      ],
      "metadata": {
        "id": "Wg4cCfwuVI5C",
        "colab": {
          "base_uri": "https://localhost:8080/"
        },
        "outputId": "64202b24-4a0b-4bd1-b85f-b31eca728c15"
      },
      "execution_count": null,
      "outputs": [
        {
          "output_type": "execute_result",
          "data": {
            "text/plain": [
              "CNN(\n",
              "  (cnn1): Conv2d(1, 16, kernel_size=(5, 5), stride=(1, 1))\n",
              "  (conv1_bn): BatchNorm2d(16, eps=1e-05, momentum=0.1, affine=True, track_running_stats=True)\n",
              "  (maxpool1): MaxPool2d(kernel_size=3, stride=1, padding=0, dilation=1, ceil_mode=False)\n",
              "  (cnn2): Conv2d(16, 32, kernel_size=(5, 5), stride=(1, 1))\n",
              "  (conv2_bn): BatchNorm2d(32, eps=1e-05, momentum=0.1, affine=True, track_running_stats=True)\n",
              "  (maxpool2): MaxPool2d(kernel_size=3, stride=1, padding=0, dilation=1, ceil_mode=False)\n",
              "  (cnn3): Conv2d(32, 64, kernel_size=(5, 5), stride=(1, 1))\n",
              "  (conv3_bn): BatchNorm2d(64, eps=1e-05, momentum=0.1, affine=True, track_running_stats=True)\n",
              "  (maxpool3): MaxPool2d(kernel_size=3, stride=1, padding=0, dilation=1, ceil_mode=False)\n",
              "  (fc1): Linear(in_features=3136, out_features=50, bias=True)\n",
              "  (drop): Dropout(p=0.5, inplace=False)\n",
              "  (fc2): Linear(in_features=50, out_features=2, bias=True)\n",
              ")"
            ]
          },
          "metadata": {},
          "execution_count": 20
        }
      ]
    },
    {
      "cell_type": "markdown",
      "source": [
        "Setting value of: \n",
        "\n",
        " --> epochs\n",
        "\n",
        " --> defining: criterion for loss calculation\n",
        "\n",
        " --> defining: optimizer with learning rate and model parameters (weight and bias)\n",
        "\n",
        "--> empty lists for calculation of both cost and accuracy loss for training and validation data\n"
      ],
      "metadata": {
        "id": "fvxhRD7rhQVz"
      }
    },
    {
      "cell_type": "code",
      "source": [
        "n_epochs = 10\n",
        "cost_list_train = []\n",
        "accuracy_list_train = []\n",
        "cost_list_val = []\n",
        "accuracy_list_val = []\n",
        "criterion = nn.CrossEntropyLoss()\n",
        "optimizer = optim.Adam(model.parameters(),lr = 0.001)"
      ],
      "metadata": {
        "id": "4kZvlXM0WkrB"
      },
      "execution_count": null,
      "outputs": []
    },
    {
      "cell_type": "markdown",
      "source": [
        "Setting our model to train"
      ],
      "metadata": {
        "id": "5YBg-woEh7Gt"
      }
    },
    {
      "cell_type": "code",
      "source": [
        "model.train()"
      ],
      "metadata": {
        "id": "X_dhjIpCYEDp",
        "colab": {
          "base_uri": "https://localhost:8080/"
        },
        "outputId": "6ad23fd3-9408-4c40-8fc4-2e16c1d31dca"
      },
      "execution_count": null,
      "outputs": [
        {
          "output_type": "execute_result",
          "data": {
            "text/plain": [
              "CNN(\n",
              "  (cnn1): Conv2d(1, 16, kernel_size=(5, 5), stride=(1, 1))\n",
              "  (conv1_bn): BatchNorm2d(16, eps=1e-05, momentum=0.1, affine=True, track_running_stats=True)\n",
              "  (maxpool1): MaxPool2d(kernel_size=3, stride=1, padding=0, dilation=1, ceil_mode=False)\n",
              "  (cnn2): Conv2d(16, 32, kernel_size=(5, 5), stride=(1, 1))\n",
              "  (conv2_bn): BatchNorm2d(32, eps=1e-05, momentum=0.1, affine=True, track_running_stats=True)\n",
              "  (maxpool2): MaxPool2d(kernel_size=3, stride=1, padding=0, dilation=1, ceil_mode=False)\n",
              "  (cnn3): Conv2d(32, 64, kernel_size=(5, 5), stride=(1, 1))\n",
              "  (conv3_bn): BatchNorm2d(64, eps=1e-05, momentum=0.1, affine=True, track_running_stats=True)\n",
              "  (maxpool3): MaxPool2d(kernel_size=3, stride=1, padding=0, dilation=1, ceil_mode=False)\n",
              "  (fc1): Linear(in_features=3136, out_features=50, bias=True)\n",
              "  (drop): Dropout(p=0.5, inplace=False)\n",
              "  (fc2): Linear(in_features=50, out_features=2, bias=True)\n",
              ")"
            ]
          },
          "metadata": {},
          "execution_count": 22
        }
      ]
    },
    {
      "cell_type": "markdown",
      "source": [
        "###*Training The CNN Model*"
      ],
      "metadata": {
        "id": "dO8onnslh-0-"
      }
    },
    {
      "cell_type": "code",
      "source": [
        "for epoch in range(n_epochs):\n",
        "    epoch_loss = 0\n",
        "    epoch_accuracy = 0\n",
        "    for x,y in train_loader:\n",
        "      y = y.type(torch.LongTensor)\n",
        "      x,y  = x.to(device), y.to(device)\n",
        "     \n",
        "      z = model(x)\n",
        "      loss = criterion(z,y)\n",
        "      optimizer.zero_grad()\n",
        "      loss.backward()\n",
        "      optimizer.step()\n",
        "      #cost +=loss.item()\n",
        "      #cost_list.append(cost)  \n",
        "\n",
        "      acc = ((z.argmax(dim=1) == y).float().mean())\n",
        "      epoch_accuracy += acc/len(train_loader)\n",
        "      epoch_loss += loss/len(train_loader)\n",
        "    accuracy_list_train.append(torch.IntTensor.item(epoch_accuracy))\n",
        "    cost_list_train.append(torch.IntTensor.item(epoch_loss))\n",
        "    print('Epoch : {}, train accuracy : {}, train loss : {}'.format(epoch+1, epoch_accuracy,epoch_loss))\n",
        "\n",
        "\n",
        "    with torch.no_grad():\n",
        "         epoch_val_accuracy=0\n",
        "         epoch_val_loss =0\n",
        "         for x,y in val_loader:\n",
        "             y = y.type(torch.LongTensor)\n",
        "             x,y  = x.to(device), y.to(device)\n",
        "             z = model(x)\n",
        "             val_loss = criterion(z,y)\n",
        "             acc = ((z.argmax(dim=1) == y).float().mean())\n",
        "             epoch_val_accuracy += acc/ len(val_loader)\n",
        "             epoch_val_loss += val_loss/ len(val_loader)\n",
        "             \n",
        "         accuracy_list_val.append(torch.IntTensor.item(epoch_val_accuracy))\n",
        "         cost_list_val.append(torch.IntTensor.item(epoch_val_loss))\n",
        "         print('Epoch : {}, val_accuracy : {}, val_loss : {}'.format(epoch+1, epoch_val_accuracy,epoch_val_loss))"
      ],
      "metadata": {
        "id": "uFUnBzRbVFL5",
        "colab": {
          "base_uri": "https://localhost:8080/"
        },
        "outputId": "cfe810b4-4caa-4cbb-cabe-761b655e896f"
      },
      "execution_count": null,
      "outputs": [
        {
          "output_type": "stream",
          "name": "stdout",
          "text": [
            "Epoch : 1, train accuracy : 0.5529964566230774, train loss : 0.7461625933647156\n",
            "Epoch : 1, val_accuracy : 0.5849996209144592, val_loss : 0.6395840048789978\n",
            "Epoch : 2, train accuracy : 0.5989958643913269, train loss : 0.6443204283714294\n",
            "Epoch : 2, val_accuracy : 0.6249995827674866, val_loss : 0.6358368992805481\n",
            "Epoch : 3, train accuracy : 0.6119956970214844, train loss : 0.6333438754081726\n",
            "Epoch : 3, val_accuracy : 0.569999635219574, val_loss : 0.6671736240386963\n",
            "Epoch : 4, train accuracy : 0.6339954137802124, train loss : 0.6249018311500549\n",
            "Epoch : 4, val_accuracy : 0.6099995970726013, val_loss : 0.6005814671516418\n",
            "Epoch : 5, train accuracy : 0.6339954137802124, train loss : 0.5892736911773682\n",
            "Epoch : 5, val_accuracy : 0.6099995970726013, val_loss : 0.6168148517608643\n",
            "Epoch : 6, train accuracy : 0.6969946026802063, train loss : 0.5591133236885071\n",
            "Epoch : 6, val_accuracy : 0.7149994969367981, val_loss : 0.5470283627510071\n",
            "Epoch : 7, train accuracy : 0.7229942679405212, train loss : 0.524761974811554\n",
            "Epoch : 7, val_accuracy : 0.7399994730949402, val_loss : 0.49188628792762756\n",
            "Epoch : 8, train accuracy : 0.7819935083389282, train loss : 0.48215240240097046\n",
            "Epoch : 8, val_accuracy : 0.7899994254112244, val_loss : 0.47474461793899536\n",
            "Epoch : 9, train accuracy : 0.8569925427436829, train loss : 0.36611059308052063\n",
            "Epoch : 9, val_accuracy : 0.8749993443489075, val_loss : 0.45171695947647095\n",
            "Epoch : 10, train accuracy : 0.8609924912452698, train loss : 0.3569367825984955\n",
            "Epoch : 10, val_accuracy : 0.8399993777275085, val_loss : 0.39634284377098083\n"
          ]
        }
      ]
    },
    {
      "cell_type": "markdown",
      "source": [
        "###*Graphs representing the cost and accuracy for training and validation data*"
      ],
      "metadata": {
        "id": "_Q-znfrxiG4k"
      }
    },
    {
      "cell_type": "markdown",
      "source": [
        "Graph for Training Data"
      ],
      "metadata": {
        "id": "FPzkbdLUiSsB"
      }
    },
    {
      "cell_type": "code",
      "source": [
        "#graph between epoch, cost and accuracy for Training Data\n",
        "\n",
        "\n",
        "fig, ax1 = plt.subplots()\n",
        "color = 'tab:red'\n",
        "ax1.plot(cost_list_train, color=color)\n",
        "ax1.set_xlabel('epoch', color=color)\n",
        "ax1.set_ylabel('Cost', color=color)\n",
        "ax1.tick_params(axis='y', color=color)\n",
        "\n",
        "ax2 = ax1.twinx()  \n",
        "color = 'tab:blue'\n",
        "ax2.set_ylabel('accuracy', color=color) \n",
        "ax2.set_xlabel('epoch', color=color)\n",
        "ax2.plot( accuracy_list_train, color=color)\n",
        "ax2.tick_params(axis='y', color=color)\n",
        "fig.tight_layout()"
      ],
      "metadata": {
        "id": "zvm1MJ3YrTpB",
        "colab": {
          "base_uri": "https://localhost:8080/",
          "height": 297
        },
        "outputId": "a064956f-df9c-446a-c0f1-8017112cd977"
      },
      "execution_count": null,
      "outputs": [
        {
          "output_type": "display_data",
          "data": {
            "text/plain": [
              "<Figure size 432x288 with 2 Axes>"
            ],
            "image/png": "[encoded data removed]"
          },
          "metadata": {
            "needs_background": "light"
          }
        }
      ]
    },
    {
      "cell_type": "markdown",
      "source": [
        "Graph for validation Data"
      ],
      "metadata": {
        "id": "-wM7vpHViXDR"
      }
    },
    {
      "cell_type": "code",
      "source": [
        "#graph between epoch, cost and accuracy for Validation Data\n",
        "\n",
        "fig, ax1 = plt.subplots()\n",
        "color = 'tab:red'\n",
        "ax1.plot(cost_list_val, color=color)\n",
        "ax1.set_xlabel('epoch', color=color)\n",
        "ax1.set_ylabel('Cost', color=color)\n",
        "ax1.tick_params(axis='y', color=color)\n",
        "\n",
        "ax2 = ax1.twinx()  \n",
        "color = 'tab:blue'\n",
        "ax2.set_ylabel('accuracy', color=color) \n",
        "ax2.set_xlabel('epoch', color=color)\n",
        "ax2.plot(accuracy_list_val, color=color)\n",
        "ax2.tick_params(axis='y', color=color)\n",
        "fig.tight_layout()"
      ],
      "metadata": {
        "id": "z_yFfXrsIlm6",
        "colab": {
          "base_uri": "https://localhost:8080/",
          "height": 297
        },
        "outputId": "e69a4ece-2427-48c8-fbe6-039e41cc514e"
      },
      "execution_count": null,
      "outputs": [
        {
          "output_type": "display_data",
          "data": {
            "text/plain": [
              "<Figure size 432x288 with 2 Axes>"
            ],
            "image/png": "[encoded data removed]"
          },
          "metadata": {
            "needs_background": "light"
          }
        }
      ]
    },
    {
      "cell_type": "markdown",
      "source": [
        "###*Predictions*"
      ],
      "metadata": {
        "id": "zBOGzhD9inK-"
      }
    },
    {
      "cell_type": "markdown",
      "source": [
        "Displaying the first 10 correctly predicted values on validation data"
      ],
      "metadata": {
        "id": "ZHxwtgOZil6P"
      }
    },
    {
      "cell_type": "code",
      "source": [
        "count = 0\n",
        "categ ={ 0 : 'circle' , 1 : 'rectangle'}\n",
        "model.eval()\n",
        "for x, y in torch.utils.data.DataLoader(dataset=val_data, batch_size=1):\n",
        "    x,y = x.to(device) , y.to(device)\n",
        "    z = model(x)\n",
        "    _, yhat = torch.max(z, 1)\n",
        "    \n",
        "    if yhat == y:\n",
        "        x = x.cpu()\n",
        "        plt.imshow(x.reshape(img_size,img_size), cmap = 'gray')\n",
        "        plt.show()\n",
        "        print(\"yhat: \" ,categ[torch.IntTensor.item(yhat)])\n",
        "        count += 1\n",
        "    if count >= 10:\n",
        "        break  "
      ],
      "metadata": {
        "id": "JITUOd08JQSg",
        "colab": {
          "base_uri": "https://localhost:8080/",
          "height": 1000
        },
        "outputId": "93596ab2-491f-4bb1-8c47-57d9b0d9fbed"
      },
      "execution_count": null,
      "outputs": [
        {
          "output_type": "display_data",
          "data": {
            "text/plain": [
              "<Figure size 432x288 with 1 Axes>"
            ],
            "image/png": "[encoded data removed]"
          },
          "metadata": {
            "needs_background": "light"
          }
        },
        {
          "output_type": "stream",
          "name": "stdout",
          "text": [
            "yhat:  circle\n"
          ]
        },
        {
          "output_type": "display_data",
          "data": {
            "text/plain": [
              "<Figure size 432x288 with 1 Axes>"
            ],
            "image/png": "[encoded data removed]"
          },
          "metadata": {
            "needs_background": "light"
          }
        },
        {
          "output_type": "stream",
          "name": "stdout",
          "text": [
            "yhat:  rectangle\n"
          ]
        },
        {
          "output_type": "display_data",
          "data": {
            "text/plain": [
              "<Figure size 432x288 with 1 Axes>"
            ],
            "image/png": "[encoded data removed]"
          },
          "metadata": {
            "needs_background": "light"
          }
        },
        {
          "output_type": "stream",
          "name": "stdout",
          "text": [
            "yhat:  circle\n"
          ]
        },
        {
          "output_type": "display_data",
          "data": {
            "text/plain": [
              "<Figure size 432x288 with 1 Axes>"
            ],
            "image/png": "[encoded data removed]"
          },
          "metadata": {
            "needs_background": "light"
          }
        },
        {
          "output_type": "stream",
          "name": "stdout",
          "text": [
            "yhat:  circle\n"
          ]
        },
        {
          "output_type": "display_data",
          "data": {
            "text/plain": [
              "<Figure size 432x288 with 1 Axes>"
            ],
            "image/png": "[encoded data removed]"
          },
          "metadata": {
            "needs_background": "light"
          }
        },
        {
          "output_type": "stream",
          "name": "stdout",
          "text": [
            "yhat:  rectangle\n"
          ]
        },
        {
          "output_type": "display_data",
          "data": {
            "text/plain": [
              "<Figure size 432x288 with 1 Axes>"
            ],
            "image/png": "[encoded data removed]"
          },
          "metadata": {
            "needs_background": "light"
          }
        },
        {
          "output_type": "stream",
          "name": "stdout",
          "text": [
            "yhat:  circle\n"
          ]
        },
        {
          "output_type": "display_data",
          "data": {
            "text/plain": [
              "<Figure size 432x288 with 1 Axes>"
            ],
            "image/png": "[encoded data removed]"
          },
          "metadata": {
            "needs_background": "light"
          }
        },
        {
          "output_type": "stream",
          "name": "stdout",
          "text": [
            "yhat:  rectangle\n"
          ]
        },
        {
          "output_type": "display_data",
          "data": {
            "text/plain": [
              "<Figure size 432x288 with 1 Axes>"
            ],
            "image/png": "[encoded data removed]"
          },
          "metadata": {
            "needs_background": "light"
          }
        },
        {
          "output_type": "stream",
          "name": "stdout",
          "text": [
            "yhat:  rectangle\n"
          ]
        },
        {
          "output_type": "display_data",
          "data": {
            "text/plain": [
              "<Figure size 432x288 with 1 Axes>"
            ],
            "image/png": "[encoded data removed]"
          },
          "metadata": {
            "needs_background": "light"
          }
        },
        {
          "output_type": "stream",
          "name": "stdout",
          "text": [
            "yhat:  rectangle\n"
          ]
        },
        {
          "output_type": "display_data",
          "data": {
            "text/plain": [
              "<Figure size 432x288 with 1 Axes>"
            ],
            "image/png": "[encoded data removed]"
          },
          "metadata": {
            "needs_background": "light"
          }
        },
        {
          "output_type": "stream",
          "name": "stdout",
          "text": [
            "yhat:  rectangle\n"
          ]
        }
      ]
    },
    {
      "cell_type": "markdown",
      "source": [
        "###*Class method that takes a cv2 image as an input and returns a prediction string as an output*\n"
      ],
      "metadata": {
        "id": "VBP9f8ABjDWm"
      }
    },
    {
      "cell_type": "code",
      "source": [
        "class Predict_Image_type():\n",
        "  def __init__(self,name):\n",
        "      self.img_path = '/content/' + name\n",
        "      self.img_array = cv2.imread(self.img_path)\n",
        "      self.gray_img = cv2.cvtColor(self.img_array, cv2.COLOR_BGR2GRAY)\n",
        "      self.new_img = cv2.resize(self.gray_img ,(img_size,img_size))\n",
        "      self.img_tensor =  torchvision.transforms.functional.to_tensor(new_img)\n",
        "      self.img_tensor = self.img_tensor.reshape(1,1,img_size,img_size)\n",
        " \n",
        "  def show_img(self):\n",
        "      plt.imshow(self.new_img, cmap= 'gray')  \n",
        "\n",
        "  def predict(self):\n",
        "      model.eval()\n",
        "      with torch.no_grad():\n",
        "        self.img_tensor = self.img_tensor.to(device)\n",
        "        z = model(self.img_tensor)\n",
        "        yhat = z.argmax(dim=1)\n",
        "        category ={ 0 : 'circle' , 1 : 'rectangle'}\n",
        "        value = category[torch.IntTensor.item(yhat)]\n",
        "      return value\n"
      ],
      "metadata": {
        "id": "C3L3AtUKgN4d"
      },
      "execution_count": null,
      "outputs": []
    },
    {
      "cell_type": "markdown",
      "source": [
        "Upload the image"
      ],
      "metadata": {
        "id": "ovxz9BF3jN56"
      }
    },
    {
      "cell_type": "code",
      "source": [
        "from google.colab import files\n",
        "img_file = files.upload()\n",
        "\n",
        "for fn in img_file.keys():\n",
        "    name = fn"
      ],
      "metadata": {
        "id": "4Xq09ptwqoKM",
        "colab": {
          "resources": {
            "http://localhost:8080/nbextensions/google.colab/files.js": {
              "data": "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",
              "ok": true,
              "headers": [
                [
                  "content-type",
                  "application/javascript"
                ]
              ],
              "status": 200,
              "status_text": ""
            }
          },
          "base_uri": "https://localhost:8080/",
          "height": 73
        },
        "outputId": "41e688aa-abf8-4ddb-fabc-487c9a387cbc"
      },
      "execution_count": null,
      "outputs": [
        {
          "output_type": "display_data",
          "data": {
            "text/plain": [
              "<IPython.core.display.HTML object>"
            ],
            "text/html": [
              "\n",
              "     <input type=\"file\" id=\"files-b9875017-022a-469c-abab-87d47e4af854\" name=\"files[]\" multiple disabled\n",
              "        style=\"border:none\" />\n",
              "     <output id=\"result-b9875017-022a-469c-abab-87d47e4af854\">\n",
              "      Upload widget is only available when the cell has been executed in the\n",
              "      current browser session. Please rerun this cell to enable.\n",
              "      </output>\n",
              "      <script src=\"/nbextensions/google.colab/files.js\"></script> "
            ]
          },
          "metadata": {}
        },
        {
          "output_type": "stream",
          "name": "stdout",
          "text": [
            "Saving 168.jpg to 168.jpg\n"
          ]
        }
      ]
    },
    {
      "cell_type": "markdown",
      "source": [
        "The Image "
      ],
      "metadata": {
        "id": "Vg24MiN9jeIy"
      }
    },
    {
      "cell_type": "code",
      "source": [
        "Predict_Image_type(name).show_img()"
      ],
      "metadata": {
        "id": "ZWdXoq-Sk7ue",
        "colab": {
          "base_uri": "https://localhost:8080/",
          "height": 265
        },
        "outputId": "2f1cf82c-ad0b-4646-9c90-d3441164048e"
      },
      "execution_count": null,
      "outputs": [
        {
          "output_type": "display_data",
          "data": {
            "text/plain": [
              "<Figure size 432x288 with 1 Axes>"
            ],
            "image/png": "[encoded data removed]"
          },
          "metadata": {
            "needs_background": "light"
          }
        }
      ]
    },
    {
      "cell_type": "code",
      "source": [
        "print(\"Image is of :  {}\".format(Predict_Image_type(name).predict()))"
      ],
      "metadata": {
        "id": "o3dI0YcFNjxH",
        "colab": {
          "base_uri": "https://localhost:8080/"
        },
        "outputId": "475b03cb-d4ac-4f28-90a9-5818a850ea43"
      },
      "execution_count": null,
      "outputs": [
        {
          "output_type": "stream",
          "name": "stdout",
          "text": [
            "Image is of :  circle\n"
          ]
        }
      ]
    }
  ]
}